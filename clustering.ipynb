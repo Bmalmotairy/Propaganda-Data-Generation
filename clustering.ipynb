{
 "cells": [
  {
   "cell_type": "markdown",
   "id": "3ed4d241",
   "metadata": {},
   "source": [
    "# Dataset Clustering\n"
   ]
  },
  {
   "cell_type": "code",
   "execution_count": 1,
   "id": "cd7067bb",
   "metadata": {},
   "outputs": [],
   "source": [
    "import pandas as pd"
   ]
  },
  {
   "cell_type": "code",
   "execution_count": 2,
   "id": "8fed560b",
   "metadata": {},
   "outputs": [],
   "source": [
    "tweets = pd.read_csv(\"data/tweets_data.csv\")[[\"tweetid\", \"tweet_text\"]]"
   ]
  },
  {
   "cell_type": "code",
   "execution_count": 3,
   "id": "b7e79057",
   "metadata": {},
   "outputs": [
    {
     "data": {
      "text/html": [
       "<div>\n",
       "<style scoped>\n",
       "    .dataframe tbody tr th:only-of-type {\n",
       "        vertical-align: middle;\n",
       "    }\n",
       "\n",
       "    .dataframe tbody tr th {\n",
       "        vertical-align: top;\n",
       "    }\n",
       "\n",
       "    .dataframe thead th {\n",
       "        text-align: right;\n",
       "    }\n",
       "</style>\n",
       "<table border=\"1\" class=\"dataframe\">\n",
       "  <thead>\n",
       "    <tr style=\"text-align: right;\">\n",
       "      <th></th>\n",
       "      <th>tweetid</th>\n",
       "      <th>tweet_text</th>\n",
       "    </tr>\n",
       "  </thead>\n",
       "  <tbody>\n",
       "    <tr>\n",
       "      <th>0</th>\n",
       "      <td>1137497501194493952</td>\n",
       "      <td>RT @3v5v3: ٢_  🔴  عسل سدر  🍯 🍯\\n\\n ❌  ❌   فوائ...</td>\n",
       "    </tr>\n",
       "    <tr>\n",
       "      <th>1</th>\n",
       "      <td>1170605961829990400</td>\n",
       "      <td>(للرجال نصيب مما ترك الوالدان والأقربون وللنسا...</td>\n",
       "    </tr>\n",
       "    <tr>\n",
       "      <th>2</th>\n",
       "      <td>1172783625445597184</td>\n",
       "      <td>(من كان يريد حرث الآخرة نزد له في حرثه ومن كان...</td>\n",
       "    </tr>\n",
       "    <tr>\n",
       "      <th>3</th>\n",
       "      <td>1122861301556969478</td>\n",
       "      <td>دائما يمثلني @kingoflaw69 👏🏻👏🏻 #البدون  #اسقاط...</td>\n",
       "    </tr>\n",
       "    <tr>\n",
       "      <th>4</th>\n",
       "      <td>1174386089659965440</td>\n",
       "      <td>الحمدالله وأخيراً ضبط الحظ 😍 https://t.co/L9JS...</td>\n",
       "    </tr>\n",
       "  </tbody>\n",
       "</table>\n",
       "</div>"
      ],
      "text/plain": [
       "               tweetid                                         tweet_text\n",
       "0  1137497501194493952  RT @3v5v3: ٢_  🔴  عسل سدر  🍯 🍯\\n\\n ❌  ❌   فوائ...\n",
       "1  1170605961829990400  (للرجال نصيب مما ترك الوالدان والأقربون وللنسا...\n",
       "2  1172783625445597184  (من كان يريد حرث الآخرة نزد له في حرثه ومن كان...\n",
       "3  1122861301556969478  دائما يمثلني @kingoflaw69 👏🏻👏🏻 #البدون  #اسقاط...\n",
       "4  1174386089659965440  الحمدالله وأخيراً ضبط الحظ 😍 https://t.co/L9JS..."
      ]
     },
     "execution_count": 3,
     "metadata": {},
     "output_type": "execute_result"
    }
   ],
   "source": [
    "tweets.head()"
   ]
  },
  {
   "cell_type": "code",
   "execution_count": 4,
   "id": "05c72a62",
   "metadata": {},
   "outputs": [
    {
     "name": "stdout",
     "output_type": "stream",
     "text": [
      "<class 'pandas.core.frame.DataFrame'>\n",
      "RangeIndex: 14811965 entries, 0 to 14811964\n",
      "Data columns (total 2 columns):\n",
      " #   Column      Dtype \n",
      "---  ------      ----- \n",
      " 0   tweetid     int64 \n",
      " 1   tweet_text  object\n",
      "dtypes: int64(1), object(1)\n",
      "memory usage: 226.0+ MB\n"
     ]
    }
   ],
   "source": [
    "tweets.info()"
   ]
  },
  {
   "cell_type": "code",
   "execution_count": 5,
   "id": "d0117e05",
   "metadata": {},
   "outputs": [],
   "source": [
    "# tweet text cleaning. remove hashtags, mentions, emojis, and tashqeel\n",
    "\n",
    "import re\n",
    "import emoji\n",
    "\n",
    "# from farasa.stemmer import FarasaStemmer\n",
    "\n",
    "# stemmer = FarasaStemmer()\n",
    "\n",
    "\n",
    "def clean_text(text):\n",
    "    # links\n",
    "    clean_text = re.sub(r\"http\\S+|t\\.co/\\S+\", \"\", text)\n",
    "    # mentions\n",
    "    clean_text = re.sub(r\"@\\w+\", \"\", clean_text)\n",
    "    # hashtags\n",
    "    clean_text = re.sub(r\"#\", \"\", clean_text)\n",
    "    clean_text = re.sub(r\"_\", \" \", clean_text)\n",
    "    # tashqeel - from @bakriano\n",
    "    clean_text = re.sub(r\"[\\u0617-\\u061A\\u064B-\\u0652]\", \"\", clean_text)\n",
    "    # emojis\n",
    "    clean_text = emoji.replace_emoji(clean_text, replace=\"\")\n",
    "    # remove new lines and normalize white spaces\n",
    "    clean_text = re.sub(r\"\\s+\", \" \", clean_text)\n",
    "    # stemming the text\n",
    "    # clean_text = stemmer.stem(clean_text)\n",
    "    return clean_text.strip()"
   ]
  },
  {
   "cell_type": "code",
   "execution_count": 6,
   "id": "dae35aab",
   "metadata": {},
   "outputs": [],
   "source": [
    "# sample_text = \"نحن أبنااااء أمة واحدة ولااابد أن نتحححححد\""
   ]
  },
  {
   "cell_type": "code",
   "execution_count": 7,
   "id": "32167595",
   "metadata": {},
   "outputs": [],
   "source": [
    "# stemmer.stem(sample_text)"
   ]
  },
  {
   "cell_type": "code",
   "execution_count": 8,
   "id": "511f242b",
   "metadata": {},
   "outputs": [],
   "source": [
    "# %%timeit\n",
    "# stemmer.stem(sample_text)"
   ]
  },
  {
   "cell_type": "code",
   "execution_count": 9,
   "id": "6e727cc7",
   "metadata": {},
   "outputs": [],
   "source": [
    "tweets[\"clean_tweet\"] = tweets[\"tweet_text\"].apply(clean_text)"
   ]
  },
  {
   "cell_type": "code",
   "execution_count": 10,
   "id": "4b184b8d",
   "metadata": {},
   "outputs": [
    {
     "data": {
      "text/html": [
       "<div>\n",
       "<style scoped>\n",
       "    .dataframe tbody tr th:only-of-type {\n",
       "        vertical-align: middle;\n",
       "    }\n",
       "\n",
       "    .dataframe tbody tr th {\n",
       "        vertical-align: top;\n",
       "    }\n",
       "\n",
       "    .dataframe thead th {\n",
       "        text-align: right;\n",
       "    }\n",
       "</style>\n",
       "<table border=\"1\" class=\"dataframe\">\n",
       "  <thead>\n",
       "    <tr style=\"text-align: right;\">\n",
       "      <th></th>\n",
       "      <th>tweetid</th>\n",
       "      <th>tweet_text</th>\n",
       "      <th>clean_tweet</th>\n",
       "    </tr>\n",
       "  </thead>\n",
       "  <tbody>\n",
       "    <tr>\n",
       "      <th>0</th>\n",
       "      <td>1137497501194493952</td>\n",
       "      <td>RT @3v5v3: ٢_  🔴  عسل سدر  🍯 🍯\\n\\n ❌  ❌   فوائ...</td>\n",
       "      <td>RT : ٢ عسل سدر فوائد عسل السدر [ للالتهابات [ ...</td>\n",
       "    </tr>\n",
       "    <tr>\n",
       "      <th>1</th>\n",
       "      <td>1170605961829990400</td>\n",
       "      <td>(للرجال نصيب مما ترك الوالدان والأقربون وللنسا...</td>\n",
       "      <td>(للرجال نصيب مما ترك الوالدان والأقربون وللنسا...</td>\n",
       "    </tr>\n",
       "    <tr>\n",
       "      <th>2</th>\n",
       "      <td>1172783625445597184</td>\n",
       "      <td>(من كان يريد حرث الآخرة نزد له في حرثه ومن كان...</td>\n",
       "      <td>(من كان يريد حرث الآخرة نزد له في حرثه ومن كان...</td>\n",
       "    </tr>\n",
       "    <tr>\n",
       "      <th>3</th>\n",
       "      <td>1122861301556969478</td>\n",
       "      <td>دائما يمثلني @kingoflaw69 👏🏻👏🏻 #البدون  #اسقاط...</td>\n",
       "      <td>دائما يمثلني البدون اسقاط القروض لليوم 145</td>\n",
       "    </tr>\n",
       "    <tr>\n",
       "      <th>4</th>\n",
       "      <td>1174386089659965440</td>\n",
       "      <td>الحمدالله وأخيراً ضبط الحظ 😍 https://t.co/L9JS...</td>\n",
       "      <td>الحمدالله وأخيرا ضبط الحظ</td>\n",
       "    </tr>\n",
       "    <tr>\n",
       "      <th>5</th>\n",
       "      <td>1107018391850807296</td>\n",
       "      <td>سويت كل شي ياماتيتش 💔</td>\n",
       "      <td>سويت كل شي ياماتيتش</td>\n",
       "    </tr>\n",
       "    <tr>\n",
       "      <th>6</th>\n",
       "      <td>1115299968733143040</td>\n",
       "      <td>جوفينكو وش قاعد يسوي!!</td>\n",
       "      <td>جوفينكو وش قاعد يسوي!!</td>\n",
       "    </tr>\n",
       "    <tr>\n",
       "      <th>7</th>\n",
       "      <td>1180891970622885889</td>\n",
       "      <td>مدرب للبيع يعرف كل شي الا التدريب https://t.co...</td>\n",
       "      <td>مدرب للبيع يعرف كل شي الا التدريب</td>\n",
       "    </tr>\n",
       "    <tr>\n",
       "      <th>8</th>\n",
       "      <td>1162432096868143104</td>\n",
       "      <td>أجواء الاليانز 😍🔥</td>\n",
       "      <td>أجواء الاليانز</td>\n",
       "    </tr>\n",
       "    <tr>\n",
       "      <th>9</th>\n",
       "      <td>1158463519337193473</td>\n",
       "      <td>اوف لو يجي الثاني للوحدة الحين</td>\n",
       "      <td>اوف لو يجي الثاني للوحدة الحين</td>\n",
       "    </tr>\n",
       "    <tr>\n",
       "      <th>10</th>\n",
       "      <td>1168851365143224320</td>\n",
       "      <td>مسسسسسسااكم بنفسج 💜\\nشكراا شكراا شكراا لكل من ...</td>\n",
       "      <td>مسسسسسسااكم بنفسج شكراا شكراا شكراا لكل من سأل...</td>\n",
       "    </tr>\n",
       "    <tr>\n",
       "      <th>11</th>\n",
       "      <td>1163292577451433985</td>\n",
       "      <td>يَآرَب إنْ أبتلِيتنِي ؛ فَأجعَلنِي عَبداً صَبُ...</td>\n",
       "      <td>يآرب إن أبتليتني ؛ فأجعلني عبدا صبورا ؛ و إن أ...</td>\n",
       "    </tr>\n",
       "    <tr>\n",
       "      <th>12</th>\n",
       "      <td>1140784988113256448</td>\n",
       "      <td>شنوووو جديدكم 😪</td>\n",
       "      <td>شنوووو جديدكم</td>\n",
       "    </tr>\n",
       "    <tr>\n",
       "      <th>13</th>\n",
       "      <td>1163088758184583175</td>\n",
       "      <td>#تتزوج_جنوبيه_ولا_مغربيه\\nانتووو صرافات عند ال...</td>\n",
       "      <td>تتزوج جنوبيه ولا مغربيه انتووو صرافات عند المغ...</td>\n",
       "    </tr>\n",
       "    <tr>\n",
       "      <th>14</th>\n",
       "      <td>1170387021497372672</td>\n",
       "      <td>(حتى إذا رأوا ما يوعدون فسيعلمون من أضعف ناصرا...</td>\n",
       "      <td>(حتى إذا رأوا ما يوعدون فسيعلمون من أضعف ناصرا...</td>\n",
       "    </tr>\n",
       "    <tr>\n",
       "      <th>15</th>\n",
       "      <td>1120851151388401665</td>\n",
       "      <td>RT @madridNo_1: #اسقاط_القروض_لليوم_140\\nوضع ا...</td>\n",
       "      <td>RT : اسقاط القروض لليوم 140 وضع الشعب مع أغلب ...</td>\n",
       "    </tr>\n",
       "    <tr>\n",
       "      <th>16</th>\n",
       "      <td>1118911517037084676</td>\n",
       "      <td>يلعن ابوك حكم</td>\n",
       "      <td>يلعن ابوك حكم</td>\n",
       "    </tr>\n",
       "    <tr>\n",
       "      <th>17</th>\n",
       "      <td>1180566237786628096</td>\n",
       "      <td>المدرج الفخم 🔥💙💙💙 https://t.co/lpp56bcqzP</td>\n",
       "      <td>المدرج الفخم</td>\n",
       "    </tr>\n",
       "    <tr>\n",
       "      <th>18</th>\n",
       "      <td>1164546758178955264</td>\n",
       "      <td>أسهل سؤال هو الذي يحتمل اجابتين متناقضتين في آ...</td>\n",
       "      <td>أسهل سؤال هو الذي يحتمل اجابتين متناقضتين في آ...</td>\n",
       "    </tr>\n",
       "    <tr>\n",
       "      <th>19</th>\n",
       "      <td>1169422387261169665</td>\n",
       "      <td>صبااحكم ورد 🌹 https://t.co/GOuwKTHFzm</td>\n",
       "      <td>صبااحكم ورد</td>\n",
       "    </tr>\n",
       "    <tr>\n",
       "      <th>20</th>\n",
       "      <td>1177787614251884544</td>\n",
       "      <td>نادرون هم أولئك الذين يكون العطاء أحد متعهم ال...</td>\n",
       "      <td>نادرون هم أولئك الذين يكون العطاء أحد متعهم ال...</td>\n",
       "    </tr>\n",
       "    <tr>\n",
       "      <th>21</th>\n",
       "      <td>1154868512789270529</td>\n",
       "      <td>#عموري_اعتذر_رجعه_يالوليد\\nمخمات هالطواقي 😂</td>\n",
       "      <td>عموري اعتذر رجعه يالوليد مخمات هالطواقي</td>\n",
       "    </tr>\n",
       "    <tr>\n",
       "      <th>22</th>\n",
       "      <td>1128294618775412737</td>\n",
       "      <td>RT @Like_follo: #٩رمضان\\nK\\n#تصويت #بيع_متابعي...</td>\n",
       "      <td>RT : ٩رمضان K تصويت بيع متابعين لايكات تويتر ا...</td>\n",
       "    </tr>\n",
       "    <tr>\n",
       "      <th>23</th>\n",
       "      <td>1143254403614412800</td>\n",
       "      <td>#ياسر_الفيصل_يكشف_نهي_نبيل\\nقلنا لكم لا تجعلوا...</td>\n",
       "      <td>ياسر الفيصل يكشف نهي نبيل قلنا لكم لا تجعلوا م...</td>\n",
       "    </tr>\n",
       "    <tr>\n",
       "      <th>24</th>\n",
       "      <td>1143243985877700608</td>\n",
       "      <td>RT @Malsiyat: •• هناك كلمة تعمّر ، وهناك كلمك ...</td>\n",
       "      <td>RT : •• هناك كلمة تعمر ، وهناك كلمك تدمر ، فأح...</td>\n",
       "    </tr>\n",
       "    <tr>\n",
       "      <th>25</th>\n",
       "      <td>1178791300432371712</td>\n",
       "      <td>RT @UizC4uX1gwfkYOl38sjajtYLtNc6hzcl5C4BlnsIco...</td>\n",
       "      <td>RT =: شركه كشف تسربات المياه بدون تكسير حل ارت...</td>\n",
       "    </tr>\n",
       "    <tr>\n",
       "      <th>26</th>\n",
       "      <td>1106891977650552832</td>\n",
       "      <td>ساعة رولكس نسائيه\\n\\nالتوصيل خلال ساعه الرياض\\...</td>\n",
       "      <td>ساعة رولكس نسائيه التوصيل خلال ساعه الرياض خار...</td>\n",
       "    </tr>\n",
       "    <tr>\n",
       "      <th>27</th>\n",
       "      <td>1155785623707574272</td>\n",
       "      <td>#تتزوج_الثانيه\\n\\n•نص اللي مشاركين بالتاق\\n لل...</td>\n",
       "      <td>تتزوج الثانيه •نص اللي مشاركين بالتاق للحين ما...</td>\n",
       "    </tr>\n",
       "    <tr>\n",
       "      <th>28</th>\n",
       "      <td>1187247997681319936</td>\n",
       "      <td>ربنا تقبل منا إنك أنت السميع العليم وتب علينا ...</td>\n",
       "      <td>ربنا تقبل منا إنك أنت السميع العليم وتب علينا ...</td>\n",
       "    </tr>\n",
       "    <tr>\n",
       "      <th>29</th>\n",
       "      <td>1143634801653624833</td>\n",
       "      <td>RT @Malsiyat: يقول قدماء العرب :\\n\\nإذا خفْت ل...</td>\n",
       "      <td>RT : يقول قدماء العرب : إذا خفت لا تقل .. وإذا...</td>\n",
       "    </tr>\n",
       "    <tr>\n",
       "      <th>30</th>\n",
       "      <td>1141785886675361793</td>\n",
       "      <td>RT @3v5v3: ٢_ ❌    اقسم   بالله    🍯\\n\\n      ...</td>\n",
       "      <td>RT : ٢ اقسم بالله انه عسل سدر طبيعي من منحلي ا...</td>\n",
       "    </tr>\n",
       "    <tr>\n",
       "      <th>31</th>\n",
       "      <td>1155838133382127622</td>\n",
       "      <td>RT @3v5v3: #مناحل_ابو_سلطان \\n\\n🔴عرض خاص  لمده...</td>\n",
       "      <td>RT : مناحل ابو سلطان عرض خاص لمده اسبوع كيلو س...</td>\n",
       "    </tr>\n",
       "    <tr>\n",
       "      <th>32</th>\n",
       "      <td>1155845004654448640</td>\n",
       "      <td>RT @UizC4uX1gwfkYOl38sjajtYLtNc6hzcl5C4BlnsIco...</td>\n",
       "      <td>RT =: كشف تسربات المياه كشف تسربات الحزانات حم...</td>\n",
       "    </tr>\n",
       "    <tr>\n",
       "      <th>33</th>\n",
       "      <td>1135591371203592194</td>\n",
       "      <td>هذا بيان المحكمة 👇😎\\n#رؤية_هلال_شوال\\n#عيد_الف...</td>\n",
       "      <td>هذا بيان المحكمة رؤية هلال شوال عيد الفطر المبارك</td>\n",
       "    </tr>\n",
       "    <tr>\n",
       "      <th>34</th>\n",
       "      <td>1102985263960199169</td>\n",
       "      <td>#معلومة للجيل الجديد:👇\\n\\nلما يقول الاب وش قلت...</td>\n",
       "      <td>معلومة للجيل الجديد: لما يقول الاب وش قلت فهو ...</td>\n",
       "    </tr>\n",
       "    <tr>\n",
       "      <th>35</th>\n",
       "      <td>1102525717164756993</td>\n",
       "      <td>اللهم ارح ثم هون ثم اشف كل نفس لا يعلم بوجعها ...</td>\n",
       "      <td>اللهم ارح ثم هون ثم اشف كل نفس لا يعلم بوجعها ...</td>\n",
       "    </tr>\n",
       "    <tr>\n",
       "      <th>36</th>\n",
       "      <td>1146434236360089600</td>\n",
       "      <td>اللي عندوه شي يجي هناا\\nلايروح الخاص ℹ\\nالخااا...</td>\n",
       "      <td>اللي عندوه شي يجي هناا لايروح الخاص الخاااص بو...</td>\n",
       "    </tr>\n",
       "    <tr>\n",
       "      <th>37</th>\n",
       "      <td>1176190033180708864</td>\n",
       "      <td>#بلقيس_في_القصيم \\nهذي وش جااابه عندناا بذاا\\n...</td>\n",
       "      <td>بلقيس في القصيم هذي وش جااابه عندناا بذاا شطحاتي</td>\n",
       "    </tr>\n",
       "    <tr>\n",
       "      <th>38</th>\n",
       "      <td>1154348741106831362</td>\n",
       "      <td>RT @UizC4uX1gwfkYOl38sjajtYLtNc6hzcl5C4BlnsIco...</td>\n",
       "      <td>RT =: كشف تسربات المياه كشف تسربات الحزانات حم...</td>\n",
       "    </tr>\n",
       "    <tr>\n",
       "      <th>39</th>\n",
       "      <td>1133126434338353154</td>\n",
       "      <td>ما من عبدٍ يذنب ذنباً فيحسن الطهور ثم يقول فيص...</td>\n",
       "      <td>ما من عبد يذنب ذنبا فيحسن الطهور ثم يقول فيصلي...</td>\n",
       "    </tr>\n",
       "  </tbody>\n",
       "</table>\n",
       "</div>"
      ],
      "text/plain": [
       "                tweetid                                         tweet_text  \\\n",
       "0   1137497501194493952  RT @3v5v3: ٢_  🔴  عسل سدر  🍯 🍯\\n\\n ❌  ❌   فوائ...   \n",
       "1   1170605961829990400  (للرجال نصيب مما ترك الوالدان والأقربون وللنسا...   \n",
       "2   1172783625445597184  (من كان يريد حرث الآخرة نزد له في حرثه ومن كان...   \n",
       "3   1122861301556969478  دائما يمثلني @kingoflaw69 👏🏻👏🏻 #البدون  #اسقاط...   \n",
       "4   1174386089659965440  الحمدالله وأخيراً ضبط الحظ 😍 https://t.co/L9JS...   \n",
       "5   1107018391850807296                              سويت كل شي ياماتيتش 💔   \n",
       "6   1115299968733143040                             جوفينكو وش قاعد يسوي!!   \n",
       "7   1180891970622885889  مدرب للبيع يعرف كل شي الا التدريب https://t.co...   \n",
       "8   1162432096868143104                                  أجواء الاليانز 😍🔥   \n",
       "9   1158463519337193473                     اوف لو يجي الثاني للوحدة الحين   \n",
       "10  1168851365143224320  مسسسسسسااكم بنفسج 💜\\nشكراا شكراا شكراا لكل من ...   \n",
       "11  1163292577451433985  يَآرَب إنْ أبتلِيتنِي ؛ فَأجعَلنِي عَبداً صَبُ...   \n",
       "12  1140784988113256448                                    شنوووو جديدكم 😪   \n",
       "13  1163088758184583175  #تتزوج_جنوبيه_ولا_مغربيه\\nانتووو صرافات عند ال...   \n",
       "14  1170387021497372672  (حتى إذا رأوا ما يوعدون فسيعلمون من أضعف ناصرا...   \n",
       "15  1120851151388401665  RT @madridNo_1: #اسقاط_القروض_لليوم_140\\nوضع ا...   \n",
       "16  1118911517037084676                                      يلعن ابوك حكم   \n",
       "17  1180566237786628096          المدرج الفخم 🔥💙💙💙 https://t.co/lpp56bcqzP   \n",
       "18  1164546758178955264  أسهل سؤال هو الذي يحتمل اجابتين متناقضتين في آ...   \n",
       "19  1169422387261169665              صبااحكم ورد 🌹 https://t.co/GOuwKTHFzm   \n",
       "20  1177787614251884544  نادرون هم أولئك الذين يكون العطاء أحد متعهم ال...   \n",
       "21  1154868512789270529        #عموري_اعتذر_رجعه_يالوليد\\nمخمات هالطواقي 😂   \n",
       "22  1128294618775412737  RT @Like_follo: #٩رمضان\\nK\\n#تصويت #بيع_متابعي...   \n",
       "23  1143254403614412800  #ياسر_الفيصل_يكشف_نهي_نبيل\\nقلنا لكم لا تجعلوا...   \n",
       "24  1143243985877700608  RT @Malsiyat: •• هناك كلمة تعمّر ، وهناك كلمك ...   \n",
       "25  1178791300432371712  RT @UizC4uX1gwfkYOl38sjajtYLtNc6hzcl5C4BlnsIco...   \n",
       "26  1106891977650552832  ساعة رولكس نسائيه\\n\\nالتوصيل خلال ساعه الرياض\\...   \n",
       "27  1155785623707574272  #تتزوج_الثانيه\\n\\n•نص اللي مشاركين بالتاق\\n لل...   \n",
       "28  1187247997681319936  ربنا تقبل منا إنك أنت السميع العليم وتب علينا ...   \n",
       "29  1143634801653624833  RT @Malsiyat: يقول قدماء العرب :\\n\\nإذا خفْت ل...   \n",
       "30  1141785886675361793  RT @3v5v3: ٢_ ❌    اقسم   بالله    🍯\\n\\n      ...   \n",
       "31  1155838133382127622  RT @3v5v3: #مناحل_ابو_سلطان \\n\\n🔴عرض خاص  لمده...   \n",
       "32  1155845004654448640  RT @UizC4uX1gwfkYOl38sjajtYLtNc6hzcl5C4BlnsIco...   \n",
       "33  1135591371203592194  هذا بيان المحكمة 👇😎\\n#رؤية_هلال_شوال\\n#عيد_الف...   \n",
       "34  1102985263960199169  #معلومة للجيل الجديد:👇\\n\\nلما يقول الاب وش قلت...   \n",
       "35  1102525717164756993  اللهم ارح ثم هون ثم اشف كل نفس لا يعلم بوجعها ...   \n",
       "36  1146434236360089600  اللي عندوه شي يجي هناا\\nلايروح الخاص ℹ\\nالخااا...   \n",
       "37  1176190033180708864  #بلقيس_في_القصيم \\nهذي وش جااابه عندناا بذاا\\n...   \n",
       "38  1154348741106831362  RT @UizC4uX1gwfkYOl38sjajtYLtNc6hzcl5C4BlnsIco...   \n",
       "39  1133126434338353154  ما من عبدٍ يذنب ذنباً فيحسن الطهور ثم يقول فيص...   \n",
       "\n",
       "                                          clean_tweet  \n",
       "0   RT : ٢ عسل سدر فوائد عسل السدر [ للالتهابات [ ...  \n",
       "1   (للرجال نصيب مما ترك الوالدان والأقربون وللنسا...  \n",
       "2   (من كان يريد حرث الآخرة نزد له في حرثه ومن كان...  \n",
       "3          دائما يمثلني البدون اسقاط القروض لليوم 145  \n",
       "4                           الحمدالله وأخيرا ضبط الحظ  \n",
       "5                                 سويت كل شي ياماتيتش  \n",
       "6                              جوفينكو وش قاعد يسوي!!  \n",
       "7                   مدرب للبيع يعرف كل شي الا التدريب  \n",
       "8                                      أجواء الاليانز  \n",
       "9                      اوف لو يجي الثاني للوحدة الحين  \n",
       "10  مسسسسسسااكم بنفسج شكراا شكراا شكراا لكل من سأل...  \n",
       "11  يآرب إن أبتليتني ؛ فأجعلني عبدا صبورا ؛ و إن أ...  \n",
       "12                                      شنوووو جديدكم  \n",
       "13  تتزوج جنوبيه ولا مغربيه انتووو صرافات عند المغ...  \n",
       "14  (حتى إذا رأوا ما يوعدون فسيعلمون من أضعف ناصرا...  \n",
       "15  RT : اسقاط القروض لليوم 140 وضع الشعب مع أغلب ...  \n",
       "16                                      يلعن ابوك حكم  \n",
       "17                                       المدرج الفخم  \n",
       "18  أسهل سؤال هو الذي يحتمل اجابتين متناقضتين في آ...  \n",
       "19                                        صبااحكم ورد  \n",
       "20  نادرون هم أولئك الذين يكون العطاء أحد متعهم ال...  \n",
       "21            عموري اعتذر رجعه يالوليد مخمات هالطواقي  \n",
       "22  RT : ٩رمضان K تصويت بيع متابعين لايكات تويتر ا...  \n",
       "23  ياسر الفيصل يكشف نهي نبيل قلنا لكم لا تجعلوا م...  \n",
       "24  RT : •• هناك كلمة تعمر ، وهناك كلمك تدمر ، فأح...  \n",
       "25  RT =: شركه كشف تسربات المياه بدون تكسير حل ارت...  \n",
       "26  ساعة رولكس نسائيه التوصيل خلال ساعه الرياض خار...  \n",
       "27  تتزوج الثانيه •نص اللي مشاركين بالتاق للحين ما...  \n",
       "28  ربنا تقبل منا إنك أنت السميع العليم وتب علينا ...  \n",
       "29  RT : يقول قدماء العرب : إذا خفت لا تقل .. وإذا...  \n",
       "30  RT : ٢ اقسم بالله انه عسل سدر طبيعي من منحلي ا...  \n",
       "31  RT : مناحل ابو سلطان عرض خاص لمده اسبوع كيلو س...  \n",
       "32  RT =: كشف تسربات المياه كشف تسربات الحزانات حم...  \n",
       "33  هذا بيان المحكمة رؤية هلال شوال عيد الفطر المبارك  \n",
       "34  معلومة للجيل الجديد: لما يقول الاب وش قلت فهو ...  \n",
       "35  اللهم ارح ثم هون ثم اشف كل نفس لا يعلم بوجعها ...  \n",
       "36  اللي عندوه شي يجي هناا لايروح الخاص الخاااص بو...  \n",
       "37   بلقيس في القصيم هذي وش جااابه عندناا بذاا شطحاتي  \n",
       "38  RT =: كشف تسربات المياه كشف تسربات الحزانات حم...  \n",
       "39  ما من عبد يذنب ذنبا فيحسن الطهور ثم يقول فيصلي...  "
      ]
     },
     "execution_count": 10,
     "metadata": {},
     "output_type": "execute_result"
    }
   ],
   "source": [
    "tweets.head(40)"
   ]
  },
  {
   "cell_type": "code",
   "execution_count": 11,
   "id": "f42f7222",
   "metadata": {},
   "outputs": [],
   "source": [
    "tweets.to_csv(\"data/clean_tweets.csv\", index=False)"
   ]
  },
  {
   "cell_type": "code",
   "execution_count": 2,
   "id": "257734a3",
   "metadata": {},
   "outputs": [
    {
     "data": {
      "text/html": [
       "<div>\n",
       "<style scoped>\n",
       "    .dataframe tbody tr th:only-of-type {\n",
       "        vertical-align: middle;\n",
       "    }\n",
       "\n",
       "    .dataframe tbody tr th {\n",
       "        vertical-align: top;\n",
       "    }\n",
       "\n",
       "    .dataframe thead th {\n",
       "        text-align: right;\n",
       "    }\n",
       "</style>\n",
       "<table border=\"1\" class=\"dataframe\">\n",
       "  <thead>\n",
       "    <tr style=\"text-align: right;\">\n",
       "      <th></th>\n",
       "      <th>tweetid</th>\n",
       "      <th>tweet_text</th>\n",
       "      <th>clean_tweet</th>\n",
       "    </tr>\n",
       "  </thead>\n",
       "  <tbody>\n",
       "    <tr>\n",
       "      <th>0</th>\n",
       "      <td>1137497501194493952</td>\n",
       "      <td>RT @3v5v3: ٢_  🔴  عسل سدر  🍯 🍯\\n\\n ❌  ❌   فوائ...</td>\n",
       "      <td>RT : ٢ عسل سدر فوائد عسل السدر [ للالتهابات [ ...</td>\n",
       "    </tr>\n",
       "    <tr>\n",
       "      <th>1</th>\n",
       "      <td>1170605961829990400</td>\n",
       "      <td>(للرجال نصيب مما ترك الوالدان والأقربون وللنسا...</td>\n",
       "      <td>(للرجال نصيب مما ترك الوالدان والأقربون وللنسا...</td>\n",
       "    </tr>\n",
       "    <tr>\n",
       "      <th>2</th>\n",
       "      <td>1172783625445597184</td>\n",
       "      <td>(من كان يريد حرث الآخرة نزد له في حرثه ومن كان...</td>\n",
       "      <td>(من كان يريد حرث الآخرة نزد له في حرثه ومن كان...</td>\n",
       "    </tr>\n",
       "    <tr>\n",
       "      <th>3</th>\n",
       "      <td>1122861301556969478</td>\n",
       "      <td>دائما يمثلني @kingoflaw69 👏🏻👏🏻 #البدون  #اسقاط...</td>\n",
       "      <td>دائما يمثلني البدون اسقاط القروض لليوم 145</td>\n",
       "    </tr>\n",
       "    <tr>\n",
       "      <th>4</th>\n",
       "      <td>1174386089659965440</td>\n",
       "      <td>الحمدالله وأخيراً ضبط الحظ 😍 https://t.co/L9JS...</td>\n",
       "      <td>الحمدالله وأخيرا ضبط الحظ</td>\n",
       "    </tr>\n",
       "  </tbody>\n",
       "</table>\n",
       "</div>"
      ],
      "text/plain": [
       "               tweetid                                         tweet_text  \\\n",
       "0  1137497501194493952  RT @3v5v3: ٢_  🔴  عسل سدر  🍯 🍯\\n\\n ❌  ❌   فوائ...   \n",
       "1  1170605961829990400  (للرجال نصيب مما ترك الوالدان والأقربون وللنسا...   \n",
       "2  1172783625445597184  (من كان يريد حرث الآخرة نزد له في حرثه ومن كان...   \n",
       "3  1122861301556969478  دائما يمثلني @kingoflaw69 👏🏻👏🏻 #البدون  #اسقاط...   \n",
       "4  1174386089659965440  الحمدالله وأخيراً ضبط الحظ 😍 https://t.co/L9JS...   \n",
       "\n",
       "                                         clean_tweet  \n",
       "0  RT : ٢ عسل سدر فوائد عسل السدر [ للالتهابات [ ...  \n",
       "1  (للرجال نصيب مما ترك الوالدان والأقربون وللنسا...  \n",
       "2  (من كان يريد حرث الآخرة نزد له في حرثه ومن كان...  \n",
       "3         دائما يمثلني البدون اسقاط القروض لليوم 145  \n",
       "4                          الحمدالله وأخيرا ضبط الحظ  "
      ]
     },
     "execution_count": 2,
     "metadata": {},
     "output_type": "execute_result"
    }
   ],
   "source": [
    "tweets = pd.read_csv(\"data/clean_tweets.csv\")\n",
    "tweets.head()"
   ]
  },
  {
   "cell_type": "code",
   "execution_count": 3,
   "id": "31447d66",
   "metadata": {},
   "outputs": [],
   "source": [
    "tweets = tweets.dropna().reset_index(drop=True)"
   ]
  },
  {
   "cell_type": "code",
   "execution_count": 14,
   "id": "ae3da8aa",
   "metadata": {},
   "outputs": [
    {
     "data": {
      "application/vnd.jupyter.widget-view+json": {
       "model_id": "d06859c18deb4e7d86b105efa343b73a",
       "version_major": 2,
       "version_minor": 0
      },
      "text/plain": [
       "  0%|          | 0/14811965 [00:00<?, ?it/s]"
      ]
     },
     "metadata": {},
     "output_type": "display_data"
    }
   ],
   "source": [
    "from tqdm.auto import tqdm\n",
    "\n",
    "tweet_text_file = \"data/tweets.txt\"\n",
    "with open(tweet_text_file, encoding=\"utf-8\", mode=\"w+\") as fid:\n",
    "    for t in tqdm(tweets.clean_tweet.values, total=tweets.shape[0]):\n",
    "        fid.write(t + \"\\t\")"
   ]
  },
  {
   "cell_type": "code",
   "execution_count": 4,
   "id": "1b865f79",
   "metadata": {},
   "outputs": [],
   "source": [
    "import fasttext\n",
    "\n",
    "# model = fasttext.train_unsupervised(tweet_text_file, model='skipgram')"
   ]
  },
  {
   "cell_type": "code",
   "execution_count": 5,
   "id": "f9e66515",
   "metadata": {},
   "outputs": [],
   "source": [
    "model_path = \"encoders/twitter_fast_text.bin\"\n",
    "\n",
    "# model.save_model(model_path)"
   ]
  },
  {
   "cell_type": "code",
   "execution_count": 6,
   "id": "c4d472ad",
   "metadata": {},
   "outputs": [],
   "source": [
    "model = fasttext.load_model(model_path)"
   ]
  },
  {
   "cell_type": "code",
   "execution_count": 8,
   "id": "7fc0be47",
   "metadata": {},
   "outputs": [
    {
     "data": {
      "application/vnd.jupyter.widget-view+json": {
       "model_id": "cb19626b44394d79bb6f5b8064818fd8",
       "version_major": 2,
       "version_minor": 0
      },
      "text/plain": [
       "  0%|          | 0/14811910 [00:00<?, ?it/s]"
      ]
     },
     "metadata": {},
     "output_type": "display_data"
    }
   ],
   "source": [
    "from tqdm.auto import tqdm\n",
    "\n",
    "encoded_data = []\n",
    "\n",
    "for t in tqdm(tweets.clean_tweet.values, total=tweets.shape[0]):\n",
    "    encoded_data.append(model.get_sentence_vector(t))"
   ]
  },
  {
   "cell_type": "code",
   "execution_count": 4,
   "id": "f76114ad",
   "metadata": {},
   "outputs": [
    {
     "name": "stderr",
     "output_type": "stream",
     "text": [
      "Intel(R) Extension for Scikit-learn* enabled (https://github.com/intel/scikit-learn-intelex)\n"
     ]
    }
   ],
   "source": [
    "from sklearnex import patch_sklearn\n",
    "\n",
    "patch_sklearn()"
   ]
  },
  {
   "cell_type": "code",
   "execution_count": 10,
   "id": "661f0fc9",
   "metadata": {},
   "outputs": [
    {
     "data": {
      "text/plain": [
       "(100,)"
      ]
     },
     "execution_count": 10,
     "metadata": {},
     "output_type": "execute_result"
    }
   ],
   "source": [
    "encoded_data[0].shape"
   ]
  },
  {
   "cell_type": "code",
   "execution_count": 1,
   "id": "ed121267",
   "metadata": {},
   "outputs": [],
   "source": [
    "import numpy as np\n",
    "\n",
    "# np.save(\"encoded_data.npy\", np.array(encoded_data))"
   ]
  },
  {
   "cell_type": "code",
   "execution_count": 2,
   "id": "c37b46a4",
   "metadata": {},
   "outputs": [],
   "source": [
    "encoded_data = np.load(\"encoded_data.npy\")"
   ]
  },
  {
   "cell_type": "code",
   "execution_count": 3,
   "id": "efcedc2d",
   "metadata": {},
   "outputs": [
    {
     "data": {
      "text/plain": [
       "(14811910, 100)"
      ]
     },
     "execution_count": 3,
     "metadata": {},
     "output_type": "execute_result"
    }
   ],
   "source": [
    "encoded_data.shape"
   ]
  },
  {
   "cell_type": "code",
   "execution_count": 6,
   "id": "6d49605b",
   "metadata": {},
   "outputs": [
    {
     "data": {
      "application/vnd.jupyter.widget-view+json": {
       "model_id": "5301382ddd69438793d39e4f7ef6e520",
       "version_major": 2,
       "version_minor": 0
      },
      "text/plain": [
       "  0%|          | 0/19 [00:00<?, ?it/s]"
      ]
     },
     "metadata": {},
     "output_type": "display_data"
    }
   ],
   "source": [
    "# dataset clustering\n",
    "from tqdm.auto import tqdm\n",
    "from sklearn.cluster import MiniBatchKMeans\n",
    "\n",
    "clustering_models = []\n",
    "\n",
    "clusters_range = 21\n",
    "\n",
    "for n_clusters in tqdm(range(2, clusters_range), total=clusters_range - 2):\n",
    "    km = MiniBatchKMeans(n_clusters, batch_size=2**16, n_init=\"auto\")\n",
    "    km.fit(encoded_data)\n",
    "    clustering_models.append(km)"
   ]
  },
  {
   "cell_type": "code",
   "execution_count": 7,
   "id": "c407632a",
   "metadata": {},
   "outputs": [],
   "source": [
    "import seaborn as sns\n",
    "\n",
    "sns.set()"
   ]
  },
  {
   "cell_type": "code",
   "execution_count": 13,
   "id": "1f15f9ca",
   "metadata": {},
   "outputs": [
    {
     "data": {
      "text/plain": [
       "19"
      ]
     },
     "execution_count": 13,
     "metadata": {},
     "output_type": "execute_result"
    }
   ],
   "source": [
    "len(clustering_models)"
   ]
  },
  {
   "cell_type": "markdown",
   "id": "87a74193",
   "metadata": {},
   "source": [
    "Calculating the inertia for each cluster. The lower the value the better the clustering.\n"
   ]
  },
  {
   "cell_type": "code",
   "execution_count": 20,
   "id": "eba733eb",
   "metadata": {},
   "outputs": [
    {
     "data": {
      "image/png": "[encoded data removed]",
      "text/plain": [
       "<Figure size 640x480 with 1 Axes>"
      ]
     },
     "metadata": {},
     "output_type": "display_data"
    }
   ],
   "source": [
    "import matplotlib.pyplot as plt\n",
    "\n",
    "_ = plt.plot(list(range(2, clusters_range)), [km.inertia_ for km in clustering_models])\n",
    "_ = plt.xticks(list(range(2, clusters_range)))\n",
    "\n",
    "# g = sns.lineplot([km.inertia_ for km in clustering_models])\n",
    "# _ = g.set_xticklabels(list(range(2, clusters_range)))"
   ]
  },
  {
   "cell_type": "code",
   "execution_count": 21,
   "id": "aab0ca81",
   "metadata": {},
   "outputs": [
    {
     "data": {
      "text/plain": [
       "array([ 0,  1,  2,  3,  4,  5,  6,  7,  8,  9, 10, 11, 12, 13])"
      ]
     },
     "execution_count": 21,
     "metadata": {},
     "output_type": "execute_result"
    }
   ],
   "source": [
    "np.unique(clustering_models[14 - 2].labels_)"
   ]
  },
  {
   "cell_type": "code",
   "execution_count": 22,
   "id": "60150252",
   "metadata": {},
   "outputs": [
    {
     "data": {
      "text/plain": [
       "14811910"
      ]
     },
     "execution_count": 22,
     "metadata": {},
     "output_type": "execute_result"
    }
   ],
   "source": [
    "len(clustering_models[14 - 2].labels_)"
   ]
  },
  {
   "cell_type": "code",
   "execution_count": 23,
   "id": "f7d40dbf",
   "metadata": {},
   "outputs": [
    {
     "data": {
      "text/plain": [
       "numpy.ndarray"
      ]
     },
     "execution_count": 23,
     "metadata": {},
     "output_type": "execute_result"
    }
   ],
   "source": [
    "type(clustering_models[14 - 2].labels_)"
   ]
  },
  {
   "cell_type": "code",
   "execution_count": 24,
   "id": "4c9045c7",
   "metadata": {},
   "outputs": [],
   "source": [
    "np.save(\"clusters.npy\", clustering_models[14 - 2].labels_)"
   ]
  }
 ],
 "metadata": {
  "kernelspec": {
   "display_name": "Python 3 (ipykernel)",
   "language": "python",
   "name": "python3"
  },
  "language_info": {
   "codemirror_mode": {
    "name": "ipython",
    "version": 3
   },
   "file_extension": ".py",
   "mimetype": "text/x-python",
   "name": "python",
   "nbconvert_exporter": "python",
   "pygments_lexer": "ipython3",
   "version": "3.8.17"
  }
 },
 "nbformat": 4,
 "nbformat_minor": 5
}
